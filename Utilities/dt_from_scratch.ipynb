{
 "cells": [
  {
   "cell_type": "code",
   "execution_count": 30,
   "id": "initial_id",
   "metadata": {
    "collapsed": true,
    "ExecuteTime": {
     "end_time": "2024-02-02T00:56:24.151524Z",
     "start_time": "2024-02-02T00:56:24.147972Z"
    }
   },
   "outputs": [],
   "source": [
    "import numpy as np \n",
    "import pandas as pd"
   ]
  },
  {
   "cell_type": "code",
   "execution_count": 31,
   "outputs": [],
   "source": [
    "col_names = ['Age','Workclass','FNLWGT','Education','EducationNum','MaritalStatus','Occupation','Relationship','Race','Sex','CapitalGain','CapitalLoss','HoursPerWeek','NativeCountry','Income'\n",
    "]\n",
    "data = pd.read_csv('adult.data',skiprows=1,names=col_names)\n",
    "data = data.head(5000)"
   ],
   "metadata": {
    "collapsed": false,
    "ExecuteTime": {
     "end_time": "2024-02-02T00:56:24.190202Z",
     "start_time": "2024-02-02T00:56:24.155168Z"
    }
   },
   "id": "58b69d75b901bc7"
  },
  {
   "cell_type": "code",
   "execution_count": 32,
   "outputs": [],
   "source": [
    "class Node():\n",
    "    def __init__(self,feature_index=None,threshold=None,left=None,right=None,info_gain=None,value=None):\n",
    "        \n",
    "        # decision node\n",
    "        self.feature_index = feature_index\n",
    "        self.threshold = threshold\n",
    "        self.left = left\n",
    "        self.right = right\n",
    "        self.info_gain = info_gain\n",
    "        # leaf node\n",
    "        self.value = value"
   ],
   "metadata": {
    "collapsed": false,
    "ExecuteTime": {
     "end_time": "2024-02-02T00:56:24.195433Z",
     "start_time": "2024-02-02T00:56:24.190768Z"
    }
   },
   "id": "da6c95d5641058b3"
  },
  {
   "cell_type": "code",
   "execution_count": 1,
   "outputs": [],
   "source": [
    "class DecisionTreeClassifier():\n",
    "    def __init__(self,min_samples_split=2,max_depth=2):\n",
    "        \n",
    "        self.root = None\n",
    "        self.min_sample_split = min_samples_split\n",
    "        self.max_depth = max_depth\n",
    "        \n",
    "    def build_tree(self,dataset,current_depth = 0):\n",
    "        \n",
    "        X,Y = dataset[:,:-1],dataset[:,-1]\n",
    "        num_samples,num_features =np.shape(X)\n",
    "        \n",
    "        # stopping conditions\n",
    "        if num_samples >= self.min_sample_split and current_depth <= self.max_depth:\n",
    "            # neither of the stopping condition is met...find best split\n",
    "            best_split = self.get_best_split(dataset,num_samples,num_features)\n",
    "            # check information gain\n",
    "            if best_split['info_gain'] > 0:\n",
    "                # recur left\n",
    "                left_subtree = self.build_tree(best_split['dataset_left'],current_depth +1)\n",
    "                # recur right\n",
    "                right_subtree = self.build_tree(best_split['dataset_right'],current_depth +1)\n",
    "                # return decision node\n",
    "                return Node(best_split['feature_index'],best_split['threshold'],\n",
    "                            left_subtree,right_subtree,best_split['info_gain'])\n",
    "\n",
    "        # compute leaf node\n",
    "        leaf_value = self.calculate_leaf_value(Y)    \n",
    "        # return leaf node\n",
    "        return Node(value = leaf_value)\n",
    "    \n",
    "    def get_best_split(self,dataset,num_samples,num_features):\n",
    "        \n",
    "        best_split = {}\n",
    "        max_info_gain = -float('inf')\n",
    "        \n",
    "        for feature_index in range(num_features):\n",
    "            feature_values = dataset[:,feature_index]\n",
    "            possible_threshold = np.unique(feature_values)\n",
    "            for threshold in possible_threshold:\n",
    "                # get current split\n",
    "                dataset_left,dataset_right = self.split(dataset,feature_index,threshold)\n",
    "                # check if children are not null\n",
    "                if len(dataset_right) > 0 and len(dataset_left) > 0:\n",
    "                    y, left_y, right_y = dataset[:,-1], dataset_left[:,-1], dataset_right[:,-1]\n",
    "                    # compute information gain \n",
    "                    curr_info_gain = self.information_gain(y,left_y,right_y,'gini')\n",
    "                    #update information gain if needed\n",
    "                    if curr_info_gain > max_info_gain:\n",
    "                        best_split['feature_index'] = feature_index\n",
    "                        best_split['threshold'] = threshold\n",
    "                        best_split['dataset_left'] = dataset_left\n",
    "                        best_split['dataset_right'] = dataset_right\n",
    "                        best_split['info_gain'] = curr_info_gain\n",
    "                        max_info_gain = curr_info_gain\n",
    "        return best_split\n",
    "    \n",
    "    def split(self,dataset,feature_index, threshold):\n",
    "        \n",
    "        dataset_left = np.array([row for row in dataset if row[feature_index] <= threshold])\n",
    "        dataset_right = np.array([row for row in dataset if row[feature_index] > threshold])\n",
    "        \n",
    "        return dataset_left,dataset_right\n",
    "    \n",
    "    def information_gain(self,parent,l_child,r_child, mode = 'entropy'):\n",
    "        \n",
    "        weight_l = len(l_child) / len(parent)\n",
    "        weight_r = len(r_child) / len(parent)\n",
    "        \n",
    "        if mode == 'gini':\n",
    "            gain = self.gini_index(parent) - (weight_l * self.gini_index(l_child) + weight_r * self.gini_index(r_child))\n",
    "        else:\n",
    "            gain = self.entropy(parent) - (weight_l * self.entropy(l_child) + weight_r * self.entropy(r_child))\n",
    "        return gain \n",
    "    \n",
    "    def entropy(self, y):\n",
    "        class_labels = np.unique(y)\n",
    "        entropy = 0\n",
    "        for cls in class_labels:\n",
    "            p_cls = len(y[y==cls]) /len(y)\n",
    "            entropy += -p_cls * np.log2(p_cls)\n",
    "            return entropy\n",
    "        \n",
    "    def gini_index(self, y):\n",
    "        class_labels = np.unique(y)\n",
    "        gini = 0\n",
    "        for cls in class_labels:\n",
    "            p_cls = len(y[y==cls]) /len(y)\n",
    "            gini += p_cls ** 2 \n",
    "            return 1 - gini\n",
    "    \n",
    "    def calculate_leaf_value(self, Y):\n",
    "        \n",
    "        Y = list(Y)\n",
    "        return max(Y,key=Y.count)\n",
    "    \n",
    "    def print_tree(self, tree = None, indent = \" \"):\n",
    "        \n",
    "        if not tree:\n",
    "            tree = self.root\n",
    "        \n",
    "        if tree.value is not None:\n",
    "            print(tree.value)\n",
    "        else:\n",
    "            print(f'X_{str(tree.feature_index)} <= {tree.threshold} ? {tree.info_gain}')\n",
    "            print('%sleft:'%(indent),end=\"\")\n",
    "            self.print_tree(tree.left,indent + indent)\n",
    "            print('%right:'%(indent),end=\"\")\n",
    "            self.print_tree(tree.right,indent + indent)\n",
    "            \n",
    "    \n",
    "    def fit(self, X, Y):\n",
    "        '''function to train the tree'''\n",
    "        dataset = np.concatenate((X,Y),axis=1)\n",
    "        self.root = self.build_tree(dataset)\n",
    "        \n",
    "    def predict_regr(self, X):\n",
    "        '''function to predict_regr a new dataset'''\n",
    "        predictions = [self.make_regression(x,self.root) for x in X]\n",
    "        return predictions\n",
    "    \n",
    "    def make_regression(self,x,tree):\n",
    "        '''function to make a single prediction'''\n",
    "        if tree.value != None: return tree.value\n",
    "        feature_val = x[tree.feature_index]\n",
    "        if feature_val <= tree.threshold:\n",
    "            return self.make_regression(x,tree.left)\n",
    "        else:\n",
    "            return self.make_regression(x,tree.right)"
   ],
   "metadata": {
    "collapsed": false,
    "ExecuteTime": {
     "end_time": "2024-02-27T21:46:21.399694Z",
     "start_time": "2024-02-27T21:46:21.394860Z"
    }
   },
   "id": "f1234f6e965105c2"
  },
  {
   "cell_type": "code",
   "execution_count": 34,
   "outputs": [],
   "source": [
    "X = data.iloc[:,:-1].values\n",
    "Y = data.iloc[:,-1].values.reshape(-1,1)\n",
    "from sklearn.model_selection import train_test_split\n",
    "X_train,X_test,Y_train,Y_test = train_test_split(X,Y,test_size=.2,random_state=7)"
   ],
   "metadata": {
    "collapsed": false,
    "ExecuteTime": {
     "end_time": "2024-02-02T00:56:24.206354Z",
     "start_time": "2024-02-02T00:56:24.202541Z"
    }
   },
   "id": "12efa5faab91b39e"
  },
  {
   "cell_type": "code",
   "execution_count": 35,
   "outputs": [],
   "source": [
    "classifier = DecisionTreeClassifier(min_samples_split=3, max_depth=3)\n",
    "classifier.fit(X_train,Y_train)"
   ],
   "metadata": {
    "collapsed": false,
    "ExecuteTime": {
     "end_time": "2024-02-02T00:56:44.383181Z",
     "start_time": "2024-02-02T00:56:24.206908Z"
    }
   },
   "id": "bd554b78ad450f79"
  },
  {
   "cell_type": "code",
   "execution_count": 36,
   "outputs": [
    {
     "name": "stdout",
     "output_type": "stream",
     "text": [
      "X_7 <=  Husband ? 0.028585775000652458\n",
      " left:X_10 <= 10566 ? 0.04983032285735778\n",
      "  left:X_4 <= 11 ? 0.02452353624540149\n",
      "    left:X_10 <= 5013 ? 0.016786721928056414\n",
      "        left: <=50K\n",
      "'        'ight: >50K\n",
      "'    'ight:X_11 <= 1740 ? 0.12528776236201278\n",
      "        left: >50K\n",
      "'        'ight: >50K\n",
      "'  'ight: >50K\n",
      "' 'ight:X_7 <=  Unmarried ? 0.015615382717628273\n",
      "  left:X_10 <= 6849 ? 0.011599726261888474\n",
      "    left:X_4 <= 12 ? 0.0027378032112795325\n",
      "        left: <=50K\n",
      "'        'ight: <=50K\n",
      "'    'ight:X_0 <= 18 ? 0.9963269054178145\n",
      "        left: <=50K\n",
      "'        'ight: >50K\n",
      "'  'ight:X_11 <= 1740 ? 0.0782844159482089\n",
      "    left:X_1 <=  Self-emp-not-inc ? 0.04979102851181727\n",
      "        left: <=50K\n",
      "'        'ight: >50K\n",
      "'    'ight: >50K\n"
     ]
    }
   ],
   "source": [
    "classifier.print_tree()"
   ],
   "metadata": {
    "collapsed": false,
    "ExecuteTime": {
     "end_time": "2024-02-02T00:56:44.386484Z",
     "start_time": "2024-02-02T00:56:44.383400Z"
    }
   },
   "id": "676f82998256fcbf"
  },
  {
   "cell_type": "code",
   "execution_count": 37,
   "outputs": [
    {
     "data": {
      "text/plain": "0.821"
     },
     "execution_count": 37,
     "metadata": {},
     "output_type": "execute_result"
    }
   ],
   "source": [
    "Y_pred = classifier.predict_regr(X_test)\n",
    "from sklearn.metrics import accuracy_score\n",
    "accuracy_score(Y_test,Y_pred)"
   ],
   "metadata": {
    "collapsed": false,
    "ExecuteTime": {
     "end_time": "2024-02-02T00:56:44.389380Z",
     "start_time": "2024-02-02T00:56:44.387443Z"
    }
   },
   "id": "ca8097a89db99b79"
  },
  {
   "cell_type": "code",
   "execution_count": 37,
   "outputs": [],
   "source": [],
   "metadata": {
    "collapsed": false,
    "ExecuteTime": {
     "end_time": "2024-02-02T00:56:44.391758Z",
     "start_time": "2024-02-02T00:56:44.389363Z"
    }
   },
   "id": "84098d9e560499f4"
  }
 ],
 "metadata": {
  "kernelspec": {
   "display_name": "Python 3",
   "language": "python",
   "name": "python3"
  },
  "language_info": {
   "codemirror_mode": {
    "name": "ipython",
    "version": 2
   },
   "file_extension": ".py",
   "mimetype": "text/x-python",
   "name": "python",
   "nbconvert_exporter": "python",
   "pygments_lexer": "ipython2",
   "version": "2.7.6"
  }
 },
 "nbformat": 4,
 "nbformat_minor": 5
}
